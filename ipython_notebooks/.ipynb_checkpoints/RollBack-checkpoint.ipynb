{
  "metadata": {
    "kernelspec": {
      "name": "python3",
      "display_name": "Python 3",
      "language": "python"
    },
    "creator": "admin",
    "createdOn": 1649359444909,
    "tags": [],
    "customFields": {},
    "hide_input": false,
    "language_info": {
      "name": "python",
      "version": "3.6.8",
      "mimetype": "text/x-python",
      "codemirror_mode": {
        "name": "ipython",
        "version": 3
      },
      "pygments_lexer": "ipython3",
      "nbconvert_exporter": "python",
      "file_extension": ".py"
    },
    "modifiedBy": "admin"
  },
  "nbformat": 4,
  "nbformat_minor": 1,
  "cells": [
    {
      "execution_count": 12,
      "cell_type": "code",
      "metadata": {},
      "source": [
        "%pylab inline"
      ],
      "outputs": [
        {
          "output_type": "stream",
          "text": "Populating the interactive namespace from numpy and matplotlib\n",
          "name": "stdout"
        }
      ]
    },
    {
      "execution_count": 13,
      "cell_type": "code",
      "metadata": {},
      "source": [
        "import dataiku\nfrom dataiku import pandasutils as pdu\nimport pandas as pd"
      ],
      "outputs": []
    },
    {
      "execution_count": 14,
      "cell_type": "code",
      "metadata": {},
      "source": [
        "import pprint\nclient \u003d dataiku.api_client()\nproject \u003d client.list_projects()\nproject \u003d client.get_default_project()\n\nprint(\"My project is %s\" % project.project_key)"
      ],
      "outputs": [
        {
          "output_type": "stream",
          "text": "My project is ADMIN_PROJECT\n",
          "name": "stdout"
        }
      ]
    },
    {
      "execution_count": 15,
      "cell_type": "code",
      "metadata": {},
      "source": [
        "#To roll back     \nprint(\"Roll back SF dataset name: BASKETBALLv2_BASKETBALL_EXPERIENCE_SF\")\ndataset \u003d project.get_dataset(\"BASKETBALLv2_BASKETBALL_EXPERIENCE_SF\")\n\nprint(\"Name: %s\" % dataset.name)\n\n\nsettings \u003d dataset.get_settings()\nsettings_raw \u003d settings.get_raw()\nparams \u003d settings.get_raw_params()\nprint(\"\\n\\nParams is (BEFORE):\")\npprint.pprint(params)\n            \n#modify catalog, schma, table of dataset\n             \nsettings_raw[\u0027params\u0027][\u0027catalog\u0027] \u003d \"INTEGRATION_TESTS\"\nsettings_raw[\u0027params\u0027][\u0027schema\u0027] \u003d \"\"\nsettings_raw[\u0027params\u0027][\u0027table\u0027] \u003d\"BASKETBALLv2_BASKETBALL_EXPERIENCE_SF\"\nsettings.save()\nsettings_raw[\"schema\"] \u003d {\"columns\":[]}\nsettings.save()\nsettings \u003d dataset.autodetect_settings()\nsettings.save()\nparams \u003d settings.get_raw_params()\nprint(\"\\n\\nParams is (AFTER):\")\npprint.pprint(params)"
      ],
      "outputs": [
        {
          "output_type": "stream",
          "text": "Roll back SF dataset name: BASKETBALLv2_BASKETBALL_EXPERIENCE_SF\nName: BASKETBALLv2_BASKETBALL_EXPERIENCE_SF\n\n\nParams is:\n{\u0027catalog\u0027: \u0027INTEGRATION_TESTS\u0027,\n \u0027connection\u0027: \u0027test_snowflake\u0027,\n \u0027mode\u0027: \u0027table\u0027,\n \u0027normalizeDoubles\u0027: True,\n \u0027notReadyIfEmpty\u0027: False,\n \u0027partitioningType\u0027: \u0027custom\u0027,\n \u0027readColsWithUnknownTzAsDates\u0027: False,\n \u0027readSQLDateColsAsDSSDates\u0027: True,\n \u0027schema\u0027: \u0027SCHEMA_TEST\u0027,\n \u0027table\u0027: \u0027SHU_SF_NEW_OUTPUT\u0027,\n \u0027tableCreationMode\u0027: \u0027auto\u0027,\n \u0027writeInsertBatchSize\u0027: 10000,\n \u0027writeJDBCBadDataBehavior\u0027: \u0027DISCARD_ROW\u0027}\n",
          "name": "stdout"
        }
      ]
    },
    {
      "execution_count": 0,
      "cell_type": "code",
      "metadata": {},
      "source": [
        ""
      ],
      "outputs": []
    }
  ]
}