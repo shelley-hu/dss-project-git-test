{
  "metadata": {
    "kernelspec": {
      "name": "python3",
      "display_name": "Python 3",
      "language": "python"
    },
    "creator": "admin",
    "createdOn": 1649358378556,
    "tags": [],
    "customFields": {},
    "hide_input": false,
    "language_info": {
      "name": "python",
      "version": "3.6.8",
      "mimetype": "text/x-python",
      "codemirror_mode": {
        "name": "ipython",
        "version": 3
      },
      "pygments_lexer": "ipython3",
      "nbconvert_exporter": "python",
      "file_extension": ".py"
    },
    "modifiedBy": "admin"
  },
  "nbformat": 4,
  "nbformat_minor": 1,
  "cells": [
    {
      "execution_count": 26,
      "cell_type": "code",
      "metadata": {},
      "source": [
        "%pylab inline"
      ],
      "outputs": [
        {
          "output_type": "stream",
          "text": "Populating the interactive namespace from numpy and matplotlib\n",
          "name": "stdout"
        }
      ]
    },
    {
      "execution_count": 2,
      "cell_type": "code",
      "metadata": {},
      "source": [
        "import dataiku\nfrom dataiku import pandasutils as pdu\nimport pandas as pd"
      ],
      "outputs": []
    },
    {
      "execution_count": 3,
      "cell_type": "code",
      "metadata": {},
      "source": [
        "import pprint\nclient \u003d dataiku.api_client()\nproject \u003d client.list_projects()\nproject \u003d client.get_default_project()\n\nprint(\"My project is %s\" % project.project_key)"
      ],
      "outputs": [
        {
          "output_type": "stream",
          "text": "My project is ADMIN_PROJECT\n",
          "name": "stdout"
        }
      ]
    },
    {
      "execution_count": 4,
      "cell_type": "code",
      "metadata": {},
      "source": [
        "#Modify the catalog, schema and table of this dataset\ndatasets \u003d project.list_datasets()\nfor dataset in datasets:\n    if (dataset.type \u003d\u003d \u0027Snowflake\u0027):\n        if (dataset.name \u003d\u003d \u0027BASKETBALLv2_BASKETBALL_EXPERIENCE_SF\u0027):\n            print(\"\\n\\nOnly modify the input SF dataset name: BASKETBALLv2_BASKETBALL_EXPERIENCE_SF\")\n            print(\"Name: %s\" % dataset.name)\n            print(\"Type: %s\" % dataset.type)\n            dataset1 \u003d dataset.to_dataset()\n            print(\"Attributes of dataset %s\" %dir(dataset1))\n            settings \u003d dataset1.get_settings()\n            settings_raw \u003d settings.get_raw()\n            params \u003d settings.get_raw_params()\n            print(\"\\n\\nParams is (BEFORE):\")\n            pprint.pprint(params)\n            quit()\n                  \n            #modify catalog, schma, table of dataset\n            settings_raw[\u0027params\u0027][\u0027catalog\u0027] \u003d \"INTEGRATION_TESTS\"\n            settings_raw[\u0027params\u0027][\u0027schema\u0027] \u003d \"SCHEMA_TEST\"\n            settings_raw[\u0027params\u0027][\u0027table\u0027] \u003d\"SHU_SF_NEW_OUTPUT\"\n            settings.save()\n            settings_raw[\"schema\"] \u003d {\"columns\":[]}\n            settings.save()\n            settings \u003d dataset1.autodetect_settings()\n            settings.save()\n                        \n                \n            params \u003d settings.get_raw_params()\n            print(\"\\n\\nParams is (AFTER):\")\n            pprint.pprint(params)"
      ],
      "outputs": [
        {
          "output_type": "error",
          "ename": "SyntaxError",
          "evalue": "invalid syntax (\u003cipython-input-4-dce90e52e531\u003e, line 11)",
          "traceback": [
            "\u001b[0;36m  File \u001b[0;32m\"\u003cipython-input-4-dce90e52e531\u003e\"\u001b[0;36m, line \u001b[0;32m11\u001b[0m\n\u001b[0;31m    settings \u003d dataset1.get_settings()\u001b[0m\n\u001b[0m           ^\u001b[0m\n\u001b[0;31mSyntaxError\u001b[0m\u001b[0;31m:\u001b[0m invalid syntax\n"
          ]
        }
      ]
    },
    {
      "execution_count": 0,
      "cell_type": "code",
      "metadata": {},
      "source": [
        "\n"
      ],
      "outputs": []
    }
  ]
}