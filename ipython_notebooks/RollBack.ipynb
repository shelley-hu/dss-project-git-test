{
  "metadata": {
    "kernelspec": {
      "name": "python3",
      "display_name": "Python 3",
      "language": "python"
    },
    "creator": "admin",
    "createdOn": 1649359444909,
    "tags": [],
    "customFields": {},
    "hide_input": false,
    "language_info": {
      "name": "python",
      "version": "3.6.8",
      "mimetype": "text/x-python",
      "codemirror_mode": {
        "name": "ipython",
        "version": 3
      },
      "pygments_lexer": "ipython3",
      "nbconvert_exporter": "python",
      "file_extension": ".py"
    },
    "modifiedBy": "admin"
  },
  "nbformat": 4,
  "nbformat_minor": 1,
  "cells": [
    {
      "execution_count": 0,
      "cell_type": "code",
      "metadata": {},
      "source": [
        "%pylab inline"
      ],
      "outputs": []
    },
    {
      "execution_count": 0,
      "cell_type": "code",
      "metadata": {},
      "source": [
        "import dataiku\nfrom dataiku import pandasutils as pdu\nimport pandas as pd"
      ],
      "outputs": []
    },
    {
      "execution_count": 0,
      "cell_type": "code",
      "metadata": {},
      "source": [
        "import pprint\nclient \u003d dataiku.api_client()\nproject \u003d client.list_projects()\nproject \u003d client.get_default_project()\n\nprint(\"My project is %s\" % project.project_key)"
      ],
      "outputs": []
    },
    {
      "execution_count": 0,
      "cell_type": "code",
      "metadata": {},
      "source": [
        "#To roll back     \nprint(\"Roll back SF dataset name: BASKETBALLv2_BASKETBALL_EXPERIENCE_SF\")\ndateset \u003d project.get_dataset(\"BASKETBALLv2_BASKETBALL_EXPERIENCE_SF\")\n\nprint(\"Name: %s\" % dataset.name)\nprint(\"Type: %s\" % dataset.type)\ndataset1 \u003d dataset.to_dataset()\n            settings \u003d dataset1.get_settings()\n            settings_raw \u003d settings.get_raw()\n            params \u003d settings.get_raw_params()\n            print(\"\\n\\nParams is:\")\n            pprint.pprint(params)\n            \n            #modify catalog, schma, table of dataset\n            settings_raw[\u0027params\u0027][\u0027catalog\u0027] \u003d \"INTEGRATION_TESTS\"\n            settings_raw[\u0027params\u0027][\u0027schema\u0027] \u003d \"SCHEMA_TEST\"\n            settings_raw[\u0027params\u0027][\u0027table\u0027] \u003d\"SHU_SF_NEW_OUTPUT\"\n            settings.save()\n            settings_raw[\"schema\"] \u003d {\"columns\":[]}\n            settings.save()\n            settings \u003d dataset1.autodetect_settings()\n            settings.save()"
      ],
      "outputs": []
    }
  ]
}