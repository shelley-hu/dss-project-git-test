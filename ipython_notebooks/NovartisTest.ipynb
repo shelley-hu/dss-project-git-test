{
  "metadata": {
    "kernelspec": {
      "name": "python3",
      "display_name": "Python 3",
      "language": "python"
    },
    "creator": "admin",
    "createdOn": 1649191930287,
    "tags": [],
    "customFields": {},
    "hide_input": false,
    "language_info": {
      "name": "python",
      "version": "3.6.8",
      "mimetype": "text/x-python",
      "codemirror_mode": {
        "name": "ipython",
        "version": 3
      },
      "pygments_lexer": "ipython3",
      "nbconvert_exporter": "python",
      "file_extension": ".py"
    },
    "modifiedBy": "admin"
  },
  "nbformat": 4,
  "nbformat_minor": 1,
  "cells": [
    {
      "execution_count": 0,
      "cell_type": "code",
      "metadata": {},
      "source": [
        "%pylab inline"
      ],
      "outputs": []
    },
    {
      "execution_count": 0,
      "cell_type": "code",
      "metadata": {},
      "source": [
        "import dataiku\nfrom dataiku import pandasutils as pdu\nimport pandas as pd"
      ],
      "outputs": []
    },
    {
      "execution_count": 0,
      "cell_type": "code",
      "metadata": {},
      "source": [
        "# Example: load a DSS dataset as a Pandas dataframe\n#mydataset \u003d dataiku.Dataset(\"mydataset\")\n#mydataset_df \u003d mydataset.get_dataframe()"
      ],
      "outputs": []
    },
    {
      "execution_count": 0,
      "cell_type": "code",
      "metadata": {},
      "source": [
        "client \u003d dataiku.api_client()\nprj\u003d client.get_project(dataiku.default_project_key())\ndatasets \u003d prj.list_datasets()\nindex \u003d 0\nfor dataset in datasets:\n    #pp.pprint(dataset)\n    if dataset.type \u003d\u003d \u0027Snowflake\u0027:\n    dataset_to_update \u003d prj.get_dataset(dataset.name)\n    # Get dataset settings\n    settings \u003d dataset_to_update.get_settings()\n    # get raw dataset settings, which is editable\n    settings_raw \u003d settings.get_raw()"
      ],
      "outputs": []
    }
  ]
}