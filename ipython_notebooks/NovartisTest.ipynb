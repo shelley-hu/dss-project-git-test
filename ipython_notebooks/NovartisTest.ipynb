{
  "metadata": {
    "kernelspec": {
      "name": "python3",
      "display_name": "Python 3",
      "language": "python"
    },
    "creator": "admin",
    "createdOn": 1649191930287,
    "tags": [],
    "customFields": {},
    "hide_input": false,
    "language_info": {
      "name": "python",
      "version": "3.6.8",
      "mimetype": "text/x-python",
      "codemirror_mode": {
        "name": "ipython",
        "version": 3
      },
      "pygments_lexer": "ipython3",
      "nbconvert_exporter": "python",
      "file_extension": ".py"
    },
    "modifiedBy": "admin"
  },
  "nbformat": 4,
  "nbformat_minor": 1,
  "cells": [
    {
      "execution_count": 9,
      "cell_type": "code",
      "metadata": {},
      "source": [
        "%pylab inline"
      ],
      "outputs": [
        {
          "output_type": "stream",
          "text": "Populating the interactive namespace from numpy and matplotlib\n",
          "name": "stdout"
        }
      ]
    },
    {
      "execution_count": 3,
      "cell_type": "code",
      "metadata": {},
      "source": [
        "import dataiku\nfrom dataiku import pandasutils as pdu\nimport pandas as pd"
      ],
      "outputs": []
    },
    {
      "execution_count": 4,
      "cell_type": "code",
      "metadata": {},
      "source": [
        "client \u003d dataiku.api_client()\nprj\u003d client.get_project(dataiku.default_project_key())\ndatasets \u003d prj.list_datasets()"
      ],
      "outputs": []
    },
    {
      "execution_count": 5,
      "cell_type": "code",
      "metadata": {
        "code_folding": []
      },
      "source": [
        "index \u003d 0\nfor dataset in datasets:\n    #pp.pprint(dataset)\n    print(dataset)\n    if dataset.type \u003d\u003d \u0027Snowflake\u0027:\n        dataset_to_update \u003d prj.get_dataset(dataset.name)\n        # Get dataset settings\n        settings \u003d dataset_to_update.get_settings()\n        # get raw dataset settings, which is editable\n        settings_raw \u003d settings.get_raw()\n        # pp.pprint(settings_raw[\u0027params\u0027])\n        if \u0027schema\u0027 in settings_raw[\u0027params\u0027]:\n            if settings_raw[\u0027params\u0027][\u0027schema\u0027] in [\u0027AWB_CDW\u0027,\u0027AWB_CDL\u0027, \u0027AWB_ADHOC\u0027,\u0027AWB_DATAIKU_CDW\u0027, \u0027AWB_DATAIKU_CDL\u0027,\u0027AWB_DATAIKU_ADHOC\u0027]:\n                new_values \u003d workflow_Alteration_df[workflow_Alteration_df[\u0027Existing_Source\u0027.strip()] \u003d\u003d settings_raw[\u0027params\u0027][\u0027table\u0027]]\n                update_check \u003d new_values.empty\n                if not new_values.empty:\n                    print(\"Inside If\", update_check, new_values,\"*****\", new_values.index[0])\n                    settings_raw[\u0027params\u0027][\u0027catalog\u0027] \u003d new_values[\u0027GB_Database\u0027.strip()][new_values.index[0]]\n                    settings_raw[\u0027params\u0027][\u0027schema\u0027] \u003d new_values[\u0027GB_Schema\u0027.strip()][new_values.index[0]]\n                    settings_raw[\u0027params\u0027][\u0027table\u0027] \u003d new_values[\u0027GB_TBL_Name\u0027.strip()][new_values.index[0]]\n                    settings.save()\n                    settings_raw[\"schema\"] \u003d {\"columns\":[]}\n                    settings.save()\n                    settings \u003d dataset_to_update.autodetect_settings()\n                    settings.save()\n                    new_values \u003d None\n                    index +\u003d 1"
      ],
      "outputs": []
    },
    {
      "execution_count": 0,
      "cell_type": "code",
      "metadata": {},
      "source": [
        ""
      ],
      "outputs": []
    }
  ]
}