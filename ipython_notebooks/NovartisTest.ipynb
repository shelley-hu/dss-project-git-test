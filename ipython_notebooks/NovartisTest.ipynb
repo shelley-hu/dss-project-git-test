{
  "metadata": {
    "kernelspec": {
      "name": "python3",
      "display_name": "Python 3",
      "language": "python"
    },
    "creator": "admin",
    "createdOn": 1649191930287,
    "tags": [],
    "customFields": {},
    "hide_input": false,
    "language_info": {
      "name": "python",
      "version": "3.6.8",
      "mimetype": "text/x-python",
      "codemirror_mode": {
        "name": "ipython",
        "version": 3
      },
      "pygments_lexer": "ipython3",
      "nbconvert_exporter": "python",
      "file_extension": ".py"
    },
    "modifiedBy": "admin"
  },
  "nbformat": 4,
  "nbformat_minor": 1,
  "cells": [
    {
      "execution_count": 9,
      "cell_type": "code",
      "metadata": {},
      "source": [
        "%pylab inline"
      ],
      "outputs": [
        {
          "output_type": "stream",
          "text": "Populating the interactive namespace from numpy and matplotlib\n",
          "name": "stdout"
        }
      ]
    },
    {
      "execution_count": 3,
      "cell_type": "code",
      "metadata": {},
      "source": [
        "import dataiku\nfrom dataiku import pandasutils as pdu\nimport pandas as pd"
      ],
      "outputs": []
    },
    {
      "execution_count": 8,
      "cell_type": "code",
      "metadata": {},
      "source": [
        "client \u003d dataiku.api_client()\n#prj\u003d client.get_project(dataiku.default_project_key())\n#datasets \u003d prj.list_datasets()\n\n#client \u003d DSSClient(host, apiKey)\ndss_projects \u003d client.list_project_keys()\nprint(dss_projects)"
      ],
      "outputs": [
        {
          "output_type": "stream",
          "text": "[\u0027ADMIN_PROJECT\u0027, \u0027BACKEND_BREAKER\u0027, \u0027BASKETBALLv2\u0027, \u0027BASKETBALLv2_2\u0027, \u0027CUSTOMER_CHURN_BROKEN\u0027, \u0027DKU_TSHIRTS\u0027, \u0027DKU_TUTORIAL_BASICS_101\u0027, \u0027GROUP_A_PROJECT\u0027, \u0027GROUP_B_PROJECT\u0027, \u0027THEBIGSLEEP\u0027]\n",
          "name": "stdout"
        }
      ]
    },
    {
      "execution_count": 11,
      "cell_type": "code",
      "metadata": {},
      "source": [
        "for ProjectKey in dss_projects:\n    project \u003d client.get_project(ProjectKey)\n\n    project_metadata \u003d project.get_metadata()\n    print(\"project name\", ProjectKey, \"project\")\n    print(project_metadata)\n#     project_metadata[\u0027tags\u0027] \u003d [\u0027tag1\u0027,\u0027tag2\u0027]\n#     project.set_metadata(project_metadata)\n\n#     project_permissions \u003d project.get_permissions()\n#     project_permissions[\u0027permissions\u0027].append({\u0027group\u0027:\u0027data_scientists\u0027,\u0027readProjectContent\u0027: True, \u0027readDashboards\u0027: True})\n#     project.set_permissions(project_permissions)"
      ],
      "outputs": [
        {
          "output_type": "stream",
          "text": "{\u0027shortDesc\u0027: \u0027The project *Admin_project* was created by Administrator on Apr 05th 2022\u0027, \u0027label\u0027: \u0027Admin_project\u0027, \u0027checklists\u0027: {\u0027checklists\u0027: [{\u0027title\u0027: \"Your new project\u0027s Todo\", \u0027createdOn\u0027: 0, \u0027items\u0027: [{\u0027done\u0027: True, \u0027text\u0027: \u0027Create the project\u0027, \u0027createdOn\u0027: 1649191853288, \u0027createdBy\u0027: \u0027admin\u0027, \u0027stateChangedOn\u0027: 0}, {\u0027done\u0027: False, \u0027text\u0027: \u0027Set a project image (click on the color next to the project title)\u0027, \u0027createdOn\u0027: 1649191853288, \u0027createdBy\u0027: \u0027admin\u0027, \u0027stateChangedOn\u0027: 0}, {\u0027done\u0027: False, \u0027text\u0027: \u0027Import your [first dataset](projects/ADMIN_PROJECT/datasets/new/)\u0027, \u0027createdOn\u0027: 1649191853288, \u0027createdBy\u0027: \u0027admin\u0027, \u0027stateChangedOn\u0027: 0}, {\u0027done\u0027: False, \u0027text\u0027: \u0027Organize your work by replacing this with a real todo\u0027, \u0027createdOn\u0027: 1649191853288, \u0027createdBy\u0027: \u0027admin\u0027, \u0027stateChangedOn\u0027: 0}]}]}, \u0027tags\u0027: [\u0027tag1\u0027, \u0027tag2\u0027], \u0027customFields\u0027: {}}\n{\u0027shortDesc\u0027: \u0027The project *Backend_BREAKER* was created by Jordan Volz on Jun 04th 2019\u0027, \u0027label\u0027: \u0027BACKEND_BREAKER\u0027, \u0027checklists\u0027: {\u0027checklists\u0027: [{\u0027title\u0027: \"Your new project\u0027s Todo\", \u0027createdOn\u0027: 0, \u0027items\u0027: [{\u0027done\u0027: True, \u0027text\u0027: \u0027Create the project\u0027, \u0027createdOn\u0027: 1559667856152, \u0027createdBy\u0027: \u0027admin\u0027, \u0027stateChangedOn\u0027: 0}, {\u0027done\u0027: False, \u0027text\u0027: \u0027Set a project image (click on the color next to the project title)\u0027, \u0027createdOn\u0027: 1559667856152, \u0027createdBy\u0027: \u0027admin\u0027, \u0027stateChangedOn\u0027: 0}, {\u0027done\u0027: False, \u0027text\u0027: \u0027Import your [first dataset](projects/BACKEND_BREAKER/datasets/new/)\u0027, \u0027createdOn\u0027: 1559667856152, \u0027createdBy\u0027: \u0027admin\u0027, \u0027stateChangedOn\u0027: 0}, {\u0027done\u0027: False, \u0027text\u0027: \u0027Organize your work by replacing this with a real todo\u0027, \u0027createdOn\u0027: 1559667856152, \u0027createdBy\u0027: \u0027admin\u0027, \u0027stateChangedOn\u0027: 0}]}]}, \u0027tags\u0027: [\u0027tag1\u0027, \u0027tag2\u0027], \u0027customFields\u0027: {}}\n{\u0027shortDesc\u0027: \u0027The project *Basketball* was created by jordan on Nov 02nd 2018\\nThe project *BASKETBALL_COPY* was copied from *BASKETBALL* by Administrator on May 24th 2019\u0027, \u0027label\u0027: \u0027Basketball\u0027, \u0027checklists\u0027: {\u0027checklists\u0027: [{\u0027title\u0027: \"Your new project\u0027s Todo\", \u0027createdOn\u0027: 0, \u0027items\u0027: [{\u0027done\u0027: True, \u0027text\u0027: \u0027Create the project\u0027, \u0027createdOn\u0027: 1541172752633, \u0027createdBy\u0027: \u0027jordan\u0027, \u0027stateChangedOn\u0027: 0}, {\u0027done\u0027: False, \u0027text\u0027: \u0027Set a project image (click on the color next to the project title)\u0027, \u0027createdOn\u0027: 1541172752633, \u0027createdBy\u0027: \u0027jordan\u0027, \u0027stateChangedOn\u0027: 0}, {\u0027done\u0027: False, \u0027text\u0027: \u0027Import your [first dataset](projects/BASKETBALL/datasets/new/)\u0027, \u0027createdOn\u0027: 1541172752633, \u0027createdBy\u0027: \u0027jordan\u0027, \u0027stateChangedOn\u0027: 0}, {\u0027done\u0027: False, \u0027text\u0027: \u0027Organize your work by replacing this with a real todo\u0027, \u0027createdOn\u0027: 1541172752633, \u0027createdBy\u0027: \u0027jordan\u0027, \u0027stateChangedOn\u0027: 0}]}]}, \u0027tags\u0027: [\u0027tag1\u0027, \u0027tag2\u0027], \u0027customFields\u0027: {}}\n{\u0027shortDesc\u0027: \u0027The project *Basketball* was created by jordan on Nov 02nd 2018\\nThe project *BASKETBALL_COPY* was copied from *BASKETBALL* by Administrator on May 24th 2019\u0027, \u0027label\u0027: \u0027Basketball\u0027, \u0027checklists\u0027: {\u0027checklists\u0027: [{\u0027title\u0027: \"Your new project\u0027s Todo\", \u0027createdOn\u0027: 0, \u0027items\u0027: [{\u0027done\u0027: True, \u0027text\u0027: \u0027Create the project\u0027, \u0027createdOn\u0027: 1541172752633, \u0027createdBy\u0027: \u0027jordan\u0027, \u0027stateChangedOn\u0027: 0}, {\u0027done\u0027: False, \u0027text\u0027: \u0027Set a project image (click on the color next to the project title)\u0027, \u0027createdOn\u0027: 1541172752633, \u0027createdBy\u0027: \u0027jordan\u0027, \u0027stateChangedOn\u0027: 0}, {\u0027done\u0027: False, \u0027text\u0027: \u0027Import your [first dataset](projects/BASKETBALL/datasets/new/)\u0027, \u0027createdOn\u0027: 1541172752633, \u0027createdBy\u0027: \u0027jordan\u0027, \u0027stateChangedOn\u0027: 0}, {\u0027done\u0027: False, \u0027text\u0027: \u0027Organize your work by replacing this with a real todo\u0027, \u0027createdOn\u0027: 1541172752633, \u0027createdBy\u0027: \u0027jordan\u0027, \u0027stateChangedOn\u0027: 0}]}]}, \u0027tags\u0027: [\u0027tag1\u0027, \u0027tag2\u0027], \u0027customFields\u0027: {}}\n{\u0027shortDesc\u0027: \u0027The project *Customer Churn Final* was created by Administrator on Mar 19th 2019\u0027, \u0027label\u0027: \u0027Customer Churn Broken\u0027, \u0027checklists\u0027: {\u0027checklists\u0027: [{\u0027title\u0027: \"Your new project\u0027s Todo\", \u0027createdOn\u0027: 0, \u0027items\u0027: [{\u0027done\u0027: True, \u0027text\u0027: \u0027Create the project\u0027, \u0027createdOn\u0027: 1553043193091, \u0027createdBy\u0027: \u0027admin\u0027, \u0027stateChangedOn\u0027: 0}, {\u0027done\u0027: False, \u0027text\u0027: \u0027Set a project image (click on the color next to the project title)\u0027, \u0027createdOn\u0027: 1553043193091, \u0027createdBy\u0027: \u0027admin\u0027, \u0027stateChangedOn\u0027: 0}, {\u0027done\u0027: False, \u0027text\u0027: \u0027Import your [first dataset](projects/CUSTOMERCHURNFINAL/datasets/new/)\u0027, \u0027createdOn\u0027: 1553043193091, \u0027createdBy\u0027: \u0027admin\u0027, \u0027stateChangedOn\u0027: 0}, {\u0027done\u0027: False, \u0027text\u0027: \u0027Organize your work by replacing this with a real todo\u0027, \u0027createdOn\u0027: 1553043193091, \u0027createdBy\u0027: \u0027admin\u0027, \u0027stateChangedOn\u0027: 0}]}]}, \u0027tags\u0027: [\u0027tag1\u0027, \u0027tag2\u0027], \u0027customFields\u0027: {}}\n{\u0027shortDesc\u0027: \u0027This project offers a slightly different look at the Haiku T-Shirt company from the [Tutorials](https://academy.dataiku.com/latest/tutorial/index.html)\u0027, \u0027label\u0027: \u0027Dataiku TShirts for Administrator\u0027, \u0027description\u0027: \u0027_This project offers a slightly different look at the Haiku T-Shirt company from the [Tutorials](https://academy.dataiku.com/latest/tutorial/index.html)_\\n\\n\u003cbr/\u003e\\n# Revenue prediction\\n\\nIn this project you\\\u0027ll learn how to predict the monthly revenue of new customers once they completed their first purchase.\\nThis is done by :\\n\\n1. Using historical CRM data mixed with users interactions on the web site to build a predictive model,\\n2. Updating this model with the most recent data to get the best possible predictions,\\n3. Use this up-to-date model to predict how much revenue new customers will generate this month.\\n\\n\u003cbr/\u003e\\n# Visit the sample project\\n\\n\\n1. The Graphical Flow of the data and model processing.\u003cbr/\u003e\\n\u003cp class\u003d\"text-center\"\u003e\\n\u003ca href\u003d\"/projects/DKU_TSHIRTS/flow/\"  class\u003d\"btn btn-datasets-color btn-cta-big-mod\"\u003e\u003ci class\u003d\"icon-dku-sample_project\" class\u003d\"btn-cta-big-mod-icon\" /\u003e\u0026nbsp;Flow\u003c/a\u003e\u003cbr/\u003e\u003cbr/\u003e\\n\u003c/p\u003e\\n\\n2. Insights related to customers and revenue prediction.\\nNote that some charts requires the installation of the [Reverse Geocoding](https://www.dataiku.com/product/plugins/geoadmin/) plugin.\\n\u003cp class\u003d\"text-center\"\u003e\\n\u003ca href\u003d\"/projects/DKU_TSHIRTS/dashboards/\"  class\u003d\"btn btn-datasets-color btn-cta-big-mod\"\u003e\u003ci class\u003d\"icon-dku-sample_project\" class\u003d\"btn-cta-big-mod-icon\" /\u003e\u0026nbsp;Dashboards\u003c/a\u003e\u003cbr/\u003e\u003cbr/\u003e\\n\u003c/p\u003e\\n\\n\\n3. Train a predictive model to learn about the key factors impacting revenue.\\n\u003cp class\u003d\"text-center\"\u003e\\n\u003ca href\u003d\"/projects/DKU_TSHIRTS/analysis/xXTYPWEJ/\"  class\u003d\"btn btn-datasets-color btn-cta-big-mod\"\u003e\u003ci class\u003d\"icon-dku-sample_project\" class\u003d\"btn-cta-big-mod-icon\" /\u003e\u0026nbsp;Machine learning analysis\u003c/a\u003e\u003cbr/\u003e\u003cbr/\u003e\\n\u003c/p\u003e\\n\\n\\n4. Deploy that Machine Learning Model to update it regularly and forecast new customers\\\u0027 revenue accurately.\\n\u003cp class\u003d\"text-center\"\u003e\\n\u003ca href\u003d\"/projects/DKU_TSHIRTS/analysis/gPd2KlKo/\"  class\u003d\"btn btn-datasets-color btn-cta-big-mod\"\u003e\u003ci class\u003d\"icon-dku-sample_project\" class\u003d\"btn-cta-big-mod-icon\" /\u003e\u0026nbsp;Machine learning models\u003c/a\u003e\u003cbr/\u003e\u003cbr/\u003e\\n\u003c/p\u003e\\n\\n\\n\u003cbr/\u003e\\n#More on this topic\\n\\n\\n1.  REFERENCE : Understanding DSS visual grammar [http://doc.dataiku.com/dss/latest/flow/index.html?highlight\u003dvisual%20grammar](http://doc.dataiku.com/dss/latest/flow/index.html?highlight\u003dvisual%20grammar)\\n2.  VIDEO : 15 minutes to Deploy your Predictive Application : [https://www.dataiku.com/learn/guide/free-training/deploy-predictive-application.html](https://www.dataiku.com/learn/guide/free-training/deploy-predictive-application.html)\u0027, \u0027checklists\u0027: {\u0027checklists\u0027: []}, \u0027tags\u0027: [\u0027tag1\u0027, \u0027tag2\u0027], \u0027customFields\u0027: {}}\n{\u0027shortDesc\u0027: \u0027  Import, explore and prepare your first dataset\u0027, \u0027label\u0027: \u0027Basics 101 for Administrator\u0027, \u0027description\u0027: \u0027# Welcome to the first DSS tutorial\\n\\n\u003cp class\u003d\"text-center\"\u003e\\n   \u003ca href\u003d\"https://academy.dataiku.com/basics-101\" target\u003d\"_blank\" class\u003d\"btn btn-datasets-color btn-cta-big-mod\"\u003e\u003ci class\u003d\"icon-dku-sample_project\" class\u003d\"btn-cta-big-mod-icon\" /\u003e\u0026nbsp;Go to the Course on Dataiku Academy\\n  \u003c/a\u003e\\n\u003c/p\u003e\\n\\nIn this tutorial, we will learn step by step how to load a file in DSS, clean it up and visualize data.\u0027, \u0027checklists\u0027: {\u0027checklists\u0027: []}, \u0027tags\u0027: [\u0027tag1\u0027, \u0027tag2\u0027], \u0027customFields\u0027: {}}\n{\u0027shortDesc\u0027: \u0027The project *Group_A_Project* was created by Administrator on Feb 23rd 2022\u0027, \u0027label\u0027: \u0027Group_A_Project\u0027, \u0027checklists\u0027: {\u0027checklists\u0027: [{\u0027title\u0027: \"Your new project\u0027s Todo\", \u0027createdOn\u0027: 0, \u0027items\u0027: [{\u0027done\u0027: True, \u0027text\u0027: \u0027Create the project\u0027, \u0027createdOn\u0027: 1645635098292, \u0027createdBy\u0027: \u0027admin\u0027, \u0027stateChangedOn\u0027: 0}, {\u0027done\u0027: False, \u0027text\u0027: \u0027Set a project image (click on the color next to the project title)\u0027, \u0027createdOn\u0027: 1645635098292, \u0027createdBy\u0027: \u0027admin\u0027, \u0027stateChangedOn\u0027: 0}, {\u0027done\u0027: False, \u0027text\u0027: \u0027Import your [first dataset](projects/GROUP_A_PROJECT/datasets/new/)\u0027, \u0027createdOn\u0027: 1645635098292, \u0027createdBy\u0027: \u0027admin\u0027, \u0027stateChangedOn\u0027: 0}, {\u0027done\u0027: False, \u0027text\u0027: \u0027Organize your work by replacing this with a real todo\u0027, \u0027createdOn\u0027: 1645635098292, \u0027createdBy\u0027: \u0027admin\u0027, \u0027stateChangedOn\u0027: 0}]}]}, \u0027tags\u0027: [\u0027tag1\u0027, \u0027tag2\u0027], \u0027customFields\u0027: {}}\n{\u0027shortDesc\u0027: \u0027The project *Group_B_Project* was created by Administrator on Feb 23rd 2022\u0027, \u0027label\u0027: \u0027Group_B_Project\u0027, \u0027checklists\u0027: {\u0027checklists\u0027: [{\u0027title\u0027: \"Your new project\u0027s Todo\", \u0027createdOn\u0027: 0, \u0027items\u0027: [{\u0027done\u0027: True, \u0027text\u0027: \u0027Create the project\u0027, \u0027createdOn\u0027: 1645635121731, \u0027createdBy\u0027: \u0027admin\u0027, \u0027stateChangedOn\u0027: 0}, {\u0027done\u0027: False, \u0027text\u0027: \u0027Set a project image (click on the color next to the project title)\u0027, \u0027createdOn\u0027: 1645635121731, \u0027createdBy\u0027: \u0027admin\u0027, \u0027stateChangedOn\u0027: 0}, {\u0027done\u0027: False, \u0027text\u0027: \u0027Import your [first dataset](projects/GROUP_B_PROJECT/datasets/new/)\u0027, \u0027createdOn\u0027: 1645635121731, \u0027createdBy\u0027: \u0027admin\u0027, \u0027stateChangedOn\u0027: 0}, {\u0027done\u0027: False, \u0027text\u0027: \u0027Organize your work by replacing this with a real todo\u0027, \u0027createdOn\u0027: 1645635121731, \u0027createdBy\u0027: \u0027admin\u0027, \u0027stateChangedOn\u0027: 0}]}]}, \u0027tags\u0027: [\u0027tag1\u0027, \u0027tag2\u0027], \u0027customFields\u0027: {}}\n{\u0027shortDesc\u0027: \u0027The project *The Big Sleep* was created by Administrator on Oct 31st 2019\u0027, \u0027label\u0027: \u0027The Big Sleep\u0027, \u0027checklists\u0027: {\u0027checklists\u0027: [{\u0027title\u0027: \"Your new project\u0027s Todo\", \u0027createdOn\u0027: 0, \u0027items\u0027: [{\u0027done\u0027: True, \u0027text\u0027: \u0027Create the project\u0027, \u0027createdOn\u0027: 1572576203517, \u0027createdBy\u0027: \u0027admin\u0027, \u0027stateChangedOn\u0027: 0}, {\u0027done\u0027: False, \u0027text\u0027: \u0027Set a project image (click on the color next to the project title)\u0027, \u0027createdOn\u0027: 1572576203517, \u0027createdBy\u0027: \u0027admin\u0027, \u0027stateChangedOn\u0027: 0}, {\u0027done\u0027: False, \u0027text\u0027: \u0027Import your [first dataset](projects/THEBIGSLEEP/datasets/new/)\u0027, \u0027createdOn\u0027: 1572576203517, \u0027createdBy\u0027: \u0027admin\u0027, \u0027stateChangedOn\u0027: 0}, {\u0027done\u0027: False, \u0027text\u0027: \u0027Organize your work by replacing this with a real todo\u0027, \u0027createdOn\u0027: 1572576203517, \u0027createdBy\u0027: \u0027admin\u0027, \u0027stateChangedOn\u0027: 0}]}]}, \u0027tags\u0027: [\u0027tag1\u0027, \u0027tag2\u0027], \u0027customFields\u0027: {\u0027gdpr_forbid_dataset_export\u0027: False, \u0027gdpr_forbid_dataset_sharing\u0027: False, \u0027gdpr_forbid_model_creation\u0027: False, \u0027gdpr_forbid_uploaded_datasets\u0027: False}}\n",
          "name": "stdout"
        }
      ]
    },
    {
      "execution_count": 10,
      "cell_type": "code",
      "metadata": {
        "code_folding": []
      },
      "source": [
        "index \u003d 0\nfor dataset in datasets:\n    #pp.pprint(dataset)\n    print(dataset)\n    if dataset.type \u003d\u003d \u0027Snowflake\u0027:\n        dataset_to_update \u003d prj.get_dataset(dataset.name)\n        # Get dataset settings\n        settings \u003d dataset_to_update.get_settings()\n        # get raw dataset settings, which is editable\n        settings_raw \u003d settings.get_raw()\n        # pp.pprint(settings_raw[\u0027params\u0027])\n        if \u0027schema\u0027 in settings_raw[\u0027params\u0027]:\n            if settings_raw[\u0027params\u0027][\u0027schema\u0027] in [\u0027AWB_CDW\u0027,\u0027AWB_CDL\u0027, \u0027AWB_ADHOC\u0027,\u0027AWB_DATAIKU_CDW\u0027, \u0027AWB_DATAIKU_CDL\u0027,\u0027AWB_DATAIKU_ADHOC\u0027]:\n                new_values \u003d workflow_Alteration_df[workflow_Alteration_df[\u0027Existing_Source\u0027.strip()] \u003d\u003d settings_raw[\u0027params\u0027][\u0027table\u0027]]\n                update_check \u003d new_values.empty\n                if not new_values.empty:\n                    print(\"Inside If\", update_check, new_values,\"*****\", new_values.index[0])\n                    settings_raw[\u0027params\u0027][\u0027catalog\u0027] \u003d new_values[\u0027GB_Database\u0027.strip()][new_values.index[0]]\n                    settings_raw[\u0027params\u0027][\u0027schema\u0027] \u003d new_values[\u0027GB_Schema\u0027.strip()][new_values.index[0]]\n                    settings_raw[\u0027params\u0027][\u0027table\u0027] \u003d new_values[\u0027GB_TBL_Name\u0027.strip()][new_values.index[0]]\n                    settings.save()\n                    settings_raw[\"schema\"] \u003d {\"columns\":[]}\n                    settings.save()\n                    settings \u003d dataset_to_update.autodetect_settings()\n                    settings.save()\n                    new_values \u003d None\n                    index +\u003d 1"
      ],
      "outputs": []
    },
    {
      "execution_count": 0,
      "cell_type": "code",
      "metadata": {},
      "source": [
        ""
      ],
      "outputs": []
    }
  ]
}