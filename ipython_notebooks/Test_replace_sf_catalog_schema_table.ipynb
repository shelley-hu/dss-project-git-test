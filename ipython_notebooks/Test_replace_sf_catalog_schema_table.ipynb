{
  "metadata": {
    "kernelspec": {
      "name": "python3",
      "display_name": "Python 3",
      "language": "python"
    },
    "creator": "admin",
    "createdOn": 1649358378556,
    "tags": [],
    "customFields": {},
    "hide_input": false,
    "language_info": {
      "name": "python",
      "version": "3.6.8",
      "mimetype": "text/x-python",
      "codemirror_mode": {
        "name": "ipython",
        "version": 3
      },
      "pygments_lexer": "ipython3",
      "nbconvert_exporter": "python",
      "file_extension": ".py"
    },
    "modifiedBy": "admin"
  },
  "nbformat": 4,
  "nbformat_minor": 1,
  "cells": [
    {
      "execution_count": 1,
      "cell_type": "code",
      "metadata": {},
      "source": [
        "%pylab inline"
      ],
      "outputs": [
        {
          "output_type": "stream",
          "text": "Populating the interactive namespace from numpy and matplotlib\n",
          "name": "stdout"
        }
      ]
    },
    {
      "execution_count": 2,
      "cell_type": "code",
      "metadata": {},
      "source": [
        "import dataiku\nfrom dataiku import pandasutils as pdu\nimport pandas as pd"
      ],
      "outputs": []
    },
    {
      "execution_count": 3,
      "cell_type": "code",
      "metadata": {},
      "source": [
        "import pprint\nclient \u003d dataiku.api_client()\nproject \u003d client.list_projects()\nproject \u003d client.get_default_project()\n\nprint(\"My project is %s\" % project.project_key)"
      ],
      "outputs": [
        {
          "output_type": "stream",
          "text": "My project is ADMIN_PROJECT\n",
          "name": "stdout"
        }
      ]
    },
    {
      "execution_count": 8,
      "cell_type": "code",
      "metadata": {},
      "source": [
        "datasets \u003d project.list_datasets()\nfor dataset in datasets:\n    if (dataset.type \u003d\u003d \u0027Snowflake\u0027):\n        if (dataset.name \u003d\u003d \u0027BASKETBALLv2_BASKETBALL_EXPERIENCE_SF\u0027):\n            print(\"\\n\\nOnly modify the input SF dataset name: BASKETBALLv2_BASKETBALL_EXPERIENCE_SF\")\n            print(\"Name: %s\" % dataset.name)\n            print(\"Type: %s\" % dataset.type)\n            dataset1 \u003d dataset.to_dataset()\n            settings \u003d dataset1.get_settings()\n            settings_raw \u003d settings.get_raw()\n            params \u003d settings.get_raw_params()\n            print(\"\\n\\nParams is:\")\n            pprint.pprint(params)\n            #modify catalog, schma, table of dataset\n \n "
      ],
      "outputs": [
        {
          "output_type": "stream",
          "text": "\n\nOnly modify the input SF dataset name: BASKETBALLv2_BASKETBALL_EXPERIENCE_SF\nName: BASKETBALLv2_BASKETBALL_EXPERIENCE_SF\nType: Snowflake\n\n\nParams is:\n\n{\u0027catalog\u0027: \u0027INTEGRATION_TESTS\u0027,\n \u0027connection\u0027: \u0027test_snowflake\u0027,\n \u0027mode\u0027: \u0027table\u0027,\n \u0027normalizeDoubles\u0027: True,\n \u0027notReadyIfEmpty\u0027: False,\n \u0027partitioningType\u0027: \u0027custom\u0027,\n \u0027readColsWithUnknownTzAsDates\u0027: False,\n \u0027readSQLDateColsAsDSSDates\u0027: True,\n \u0027schema\u0027: \u0027\u0027,\n \u0027table\u0027: \u0027BASKETBALLv2_BASKETBALL_EXPERIENCE_SF\u0027,\n \u0027tableCreationMode\u0027: \u0027auto\u0027,\n \u0027writeInsertBatchSize\u0027: 10000,\n \u0027writeJDBCBadDataBehavior\u0027: \u0027DISCARD_ROW\u0027}\n",
          "name": "stdout"
        }
      ]
    },
    {
      "execution_count": 0,
      "cell_type": "code",
      "metadata": {},
      "source": [
        ""
      ],
      "outputs": []
    }
  ]
}